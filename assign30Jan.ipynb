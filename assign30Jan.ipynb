{
 "cells": [
  {
   "cell_type": "markdown",
   "id": "c4bf5d10-ecff-466a-b761-05ee7596033c",
   "metadata": {},
   "source": [
    "## Q1. Write a program to accept paecentage from the user and display the grade according to the following criteria:"
   ]
  },
  {
   "cell_type": "code",
   "execution_count": 7,
   "id": "ab78cfdd-e518-4e18-9fce-0a6785ce5adb",
   "metadata": {},
   "outputs": [],
   "source": [
    "# Marks         :    Grade\n",
    "#  >90          :      A\n",
    "# >80 and <=90  :      B\n",
    "# >=60 and <=80 :      C\n",
    "# below 60      :      D"
   ]
  },
  {
   "cell_type": "code",
   "execution_count": 9,
   "id": "1a654102-c5cf-4661-8425-b76e403695b6",
   "metadata": {},
   "outputs": [
    {
     "name": "stdin",
     "output_type": "stream",
     "text": [
      "Enter your percentage:-  93.5\n"
     ]
    },
    {
     "name": "stdout",
     "output_type": "stream",
     "text": [
      "Your grade is A\n"
     ]
    }
   ],
   "source": [
    "percentage = float(input(\"Enter your percentage:- \"))\n",
    "\n",
    "if percentage > 90:\n",
    "    print(\"Your grade is A\")\n",
    "elif percentage > 80 and percentage <= 90:\n",
    "    print(\"Your grade is B\")\n",
    "elif percentage >= 60 and percentage <= 80:\n",
    "    print(\"Your grade is C\")\n",
    "else:\n",
    "    print(\"Your grade is D\")"
   ]
  },
  {
   "cell_type": "markdown",
   "id": "72d06313-213b-497d-be06-ef3f17cba872",
   "metadata": {},
   "source": [
    "## Q2.  Write a program to accept the cost price of a bike and display the road tax to be paid according to the following criteria:-"
   ]
  },
  {
   "cell_type": "code",
   "execution_count": 10,
   "id": "23548b0f-87d7-44b1-b9bf-e583092e81c0",
   "metadata": {},
   "outputs": [],
   "source": [
    "#  Tax   :   Cost Price(in Rs.)\n",
    "#  15%   :     >100000\n",
    "#  10%   :     >50000 AND <=100000\n",
    "#   5%   :     <=50000"
   ]
  },
  {
   "cell_type": "code",
   "execution_count": 11,
   "id": "4b4b426e-7c12-4457-884a-b86ecbdc885a",
   "metadata": {},
   "outputs": [
    {
     "name": "stdin",
     "output_type": "stream",
     "text": [
      "Enter cost of your bike:-  150000\n"
     ]
    },
    {
     "name": "stdout",
     "output_type": "stream",
     "text": [
      "Road tax to be paid = 22500.0\n"
     ]
    }
   ],
   "source": [
    "bike_cost_price=int(input(\"Enter cost of your bike:- \"))\n",
    "\n",
    "if bike_cost_price>100000:\n",
    "    print(f\"Road tax to be paid = {bike_cost_price*15/100}\")\n",
    "elif bike_cost_price>50000 and bike_cost_price<=100000:\n",
    "    print(f\"Road tax to be paid = {bike_cost_price*10/100}\")\n",
    "else:\n",
    "    print(f\"Road tax to be paid = {bike_cost_price*5/100}\")\n",
    "        "
   ]
  },
  {
   "cell_type": "code",
   "execution_count": null,
   "id": "88a794b0-35a2-414f-95f8-c24f6a617abb",
   "metadata": {},
   "outputs": [],
   "source": []
  },
  {
   "cell_type": "markdown",
   "id": "077abcfc-0f14-4815-9a18-b96ef12a3a69",
   "metadata": {},
   "source": [
    "## Q3. Accept any city name from the user and display monuments of that city."
   ]
  },
  {
   "cell_type": "code",
   "execution_count": 12,
   "id": "46c9ad8f-85c4-40aa-9fae-589ff7198cab",
   "metadata": {},
   "outputs": [],
   "source": [
    "# City    :     Monument\n",
    "# Delhi   :     Red Fort\n",
    "# Agra    :     Taj Mahal\n",
    "# Jaipur  :     Jal Mahal"
   ]
  },
  {
   "cell_type": "code",
   "execution_count": 14,
   "id": "1dab20f3-4a6e-45a7-954c-a8b1ef3900dd",
   "metadata": {},
   "outputs": [
    {
     "name": "stdin",
     "output_type": "stream",
     "text": [
      "Enter name of city:-  delhi\n"
     ]
    },
    {
     "name": "stdout",
     "output_type": "stream",
     "text": [
      "Delhi has Red Fort.\n"
     ]
    }
   ],
   "source": [
    "city_name = input('Enter name of city:- ')\n",
    "\n",
    "if city_name == 'delhi':\n",
    "    print('Delhi has Red Fort.')\n",
    "elif city_name == 'agra':\n",
    "    print('Agra has Taj Mahal.')\n",
    "elif city_name == 'jaipur':\n",
    "    print('Jaipur has Jal Mahal.')\n",
    "else:\n",
    "    print('City name is out of data.')\n",
    "    "
   ]
  },
  {
   "cell_type": "code",
   "execution_count": null,
   "id": "ddea66a2-01b3-4938-8ffb-ab3da490021f",
   "metadata": {},
   "outputs": [],
   "source": []
  },
  {
   "cell_type": "markdown",
   "id": "4473f106-8bd2-442e-a400-4a488f23b9f9",
   "metadata": {},
   "source": [
    "## Q4. Cheakhow many times a given number can be divided by 3 before it is less than or equal to 10."
   ]
  },
  {
   "cell_type": "code",
   "execution_count": 22,
   "id": "9cfab1e4-6a6d-40f1-b9f3-3921da827447",
   "metadata": {},
   "outputs": [
    {
     "name": "stdin",
     "output_type": "stream",
     "text": [
      "Enter number:-  81\n"
     ]
    },
    {
     "name": "stdout",
     "output_type": "stream",
     "text": [
      "2\n"
     ]
    }
   ],
   "source": [
    "num = int(input('Enter number:- '))\n",
    "\n",
    "i = 0\n",
    "while num > 10:\n",
    "    if num%3 == 0:\n",
    "        num = num/3\n",
    "        i+=1\n",
    "print(i)"
   ]
  },
  {
   "cell_type": "code",
   "execution_count": null,
   "id": "2ffcda9a-a882-4ae7-8e9c-396689f4c560",
   "metadata": {},
   "outputs": [],
   "source": []
  },
  {
   "cell_type": "markdown",
   "id": "129b20e9-be84-417b-b105-f83726d1ef67",
   "metadata": {},
   "source": [
    "## Q5. Why and When to use While loop in Python? Give a detailed description with example."
   ]
  },
  {
   "cell_type": "markdown",
   "id": "97bd2702-d3fa-4d2b-b55e-ab28afd54dd8",
   "metadata": {},
   "source": [
    "#### Ans.\n",
    "#### Python while loop is used to run a block code until a certain condition is met.\n",
    "#### A while loop evaluates the condition.\n",
    "#### If the condition evaluates to True, the code inside the while loop is executed.\n",
    "#### condition is evaluated again.\n",
    "#### This process continues until the condition is False.\n",
    "#### When condition evaluates to False, the loop stops."
   ]
  },
  {
   "cell_type": "markdown",
   "id": "81fc68c9-86df-4f67-852c-21ba71fe0047",
   "metadata": {},
   "source": [
    "#### Example:-"
   ]
  },
  {
   "cell_type": "code",
   "execution_count": 16,
   "id": "fa786c96-ea7a-408f-833d-98e5854d4f1a",
   "metadata": {},
   "outputs": [
    {
     "name": "stdout",
     "output_type": "stream",
     "text": [
      "Find Squares upto \"n\" number\n"
     ]
    },
    {
     "name": "stdin",
     "output_type": "stream",
     "text": [
      "Enter number:-  10\n"
     ]
    },
    {
     "name": "stdout",
     "output_type": "stream",
     "text": [
      "1\n",
      "4\n",
      "9\n",
      "16\n",
      "25\n",
      "36\n",
      "49\n",
      "64\n",
      "81\n",
      "100\n"
     ]
    }
   ],
   "source": [
    "print('Find Squares upto \"n\" number')\n",
    "n = int(input('Enter number:- '))\n",
    "i = 1\n",
    "while i < n+1:\n",
    "    print(i**2)\n",
    "    i+=1"
   ]
  },
  {
   "cell_type": "code",
   "execution_count": null,
   "id": "f5ee0dcb-da05-49d8-9619-513b7280c41a",
   "metadata": {},
   "outputs": [],
   "source": []
  },
  {
   "cell_type": "markdown",
   "id": "58ab3852-6254-4fc1-83f4-28d26a00e3ac",
   "metadata": {},
   "source": [
    "## Q6. Use nested While loop to print 3 different patterens."
   ]
  },
  {
   "cell_type": "code",
   "execution_count": 17,
   "id": "8eb0148c-be11-4bf9-ac3a-3dcb2be2a620",
   "metadata": {},
   "outputs": [
    {
     "name": "stdout",
     "output_type": "stream",
     "text": [
      "1\n",
      "22\n",
      "333\n",
      "4444\n",
      "55555\n",
      "666666\n",
      "7777777\n",
      "88888888\n",
      "999999999\n"
     ]
    }
   ],
   "source": [
    "i=1\n",
    "j=1\n",
    "while i<10:\n",
    "    while j<10:\n",
    "        print(str(i)*j)\n",
    "        i+=1\n",
    "        j+=1"
   ]
  },
  {
   "cell_type": "code",
   "execution_count": 18,
   "id": "8f2e5062-ef03-4bd6-a593-082b58a4372a",
   "metadata": {},
   "outputs": [
    {
     "name": "stdout",
     "output_type": "stream",
     "text": [
      "999999999\n",
      "88888888\n",
      "7777777\n",
      "666666\n",
      "55555\n",
      "4444\n",
      "333\n",
      "22\n",
      "1\n"
     ]
    }
   ],
   "source": [
    "i=9\n",
    "j=9\n",
    "while i>0:\n",
    "    while j>0:\n",
    "        print(str(i)*j)\n",
    "        i-=1\n",
    "        j-=1"
   ]
  },
  {
   "cell_type": "code",
   "execution_count": 19,
   "id": "5e3e6498-6fef-4e3a-bfba-f339f63f7f42",
   "metadata": {},
   "outputs": [
    {
     "name": "stdout",
     "output_type": "stream",
     "text": [
      "    1\n",
      "   333\n",
      "  55555\n",
      " 7777777\n",
      "999999999\n"
     ]
    }
   ],
   "source": [
    "n1 = 9\n",
    "i=1\n",
    "j=1\n",
    "while i<=n1:\n",
    "    while j <=n1:\n",
    "        print(' '*((n1-i)//2) + str(i)*j)\n",
    "        i+=2\n",
    "        j+=2"
   ]
  },
  {
   "cell_type": "code",
   "execution_count": null,
   "id": "7c34b895-d70f-4d0d-965c-52b0c16dbd83",
   "metadata": {},
   "outputs": [],
   "source": []
  },
  {
   "cell_type": "markdown",
   "id": "61f9c650-201e-4e7b-8878-6ce8d345604a",
   "metadata": {},
   "source": [
    "## Q7. Reverse a while loop to display numbers from 10 to 1."
   ]
  },
  {
   "cell_type": "code",
   "execution_count": 20,
   "id": "66d84821-2d37-4547-b2e2-9bd327a4cb6b",
   "metadata": {},
   "outputs": [
    {
     "name": "stdout",
     "output_type": "stream",
     "text": [
      "10\n",
      "9\n",
      "8\n",
      "7\n",
      "6\n",
      "5\n",
      "4\n",
      "3\n",
      "2\n",
      "1\n"
     ]
    }
   ],
   "source": [
    "i = 10\n",
    "while i > 0:\n",
    "    print(i)\n",
    "    i-=1\n"
   ]
  },
  {
   "cell_type": "code",
   "execution_count": null,
   "id": "283b37c4-5f6b-4149-a3cc-e1814a76c5fe",
   "metadata": {},
   "outputs": [],
   "source": []
  },
  {
   "cell_type": "markdown",
   "id": "9cbb2ec0-d4fa-4b5b-b001-95a4915d640d",
   "metadata": {},
   "source": [
    "## Q8. Reverse a while loop to display numbers from 10 to 1."
   ]
  },
  {
   "cell_type": "code",
   "execution_count": 21,
   "id": "d496100d-4043-45b4-9214-58d26d8ecd76",
   "metadata": {},
   "outputs": [
    {
     "name": "stdout",
     "output_type": "stream",
     "text": [
      "10 9 8 7 6 5 4 3 2 1 "
     ]
    }
   ],
   "source": [
    "a = 0\n",
    "while a<10:\n",
    "    print(10-a, end=' ')\n",
    "    a+=1"
   ]
  }
 ],
 "metadata": {
  "kernelspec": {
   "display_name": "Python 3 (ipykernel)",
   "language": "python",
   "name": "python3"
  },
  "language_info": {
   "codemirror_mode": {
    "name": "ipython",
    "version": 3
   },
   "file_extension": ".py",
   "mimetype": "text/x-python",
   "name": "python",
   "nbconvert_exporter": "python",
   "pygments_lexer": "ipython3",
   "version": "3.10.8"
  }
 },
 "nbformat": 4,
 "nbformat_minor": 5
}
